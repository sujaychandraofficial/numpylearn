{
 "cells": [
  {
   "cell_type": "code",
   "execution_count": 1,
   "metadata": {},
   "outputs": [],
   "source": [
    "import numpy as np"
   ]
  },
  {
   "cell_type": "code",
   "execution_count": 15,
   "metadata": {},
   "outputs": [
    {
     "name": "stdout",
     "output_type": "stream",
     "text": [
      "\n",
      "x= \n",
      " [[ 0  1  2  3]\n",
      " [ 4  5  6  7]\n",
      " [ 8  9 10 11]\n",
      " [12 13 14 15]\n",
      " [16 17 18 19]\n",
      " [20 21 22 23]]\n",
      "\n"
     ]
    }
   ],
   "source": [
    "x=np.arange(24).reshape(6,4)\n",
    "\n",
    "print()\n",
    "print(\"x= \\n\",x)\n",
    "print()"
   ]
  },
  {
   "cell_type": "code",
   "execution_count": 16,
   "metadata": {},
   "outputs": [
    {
     "name": "stdout",
     "output_type": "stream",
     "text": [
      "elements those are greater than 10 [11 12 13 14 15 16 17 18 19 20 21 22 23]\n",
      "eleements those are lesss than 10 [0 1 2 3 4 5 6 7 8 9]\n",
      "elements those are betwwen 10 and 17 [11 12 13 14 15 16]\n"
     ]
    }
   ],
   "source": [
    "print(\"elements those are greater than 10\",x[x>10])\n",
    "print(\"eleements those are lesss than 10\",x[x<10])\n",
    "print(\"elements those are betwwen 10 and 17\",x[(x>10) & (x<17)])"
   ]
  },
  {
   "cell_type": "code",
   "execution_count": 17,
   "metadata": {},
   "outputs": [
    {
     "name": "stdout",
     "output_type": "stream",
     "text": [
      "\n",
      "x= \n",
      " [[ 0  1  2  3]\n",
      " [ 4  5  6  7]\n",
      " [ 8  9 10 -1]\n",
      " [-1 -1 -1 -1]\n",
      " [-1 17 18 19]\n",
      " [20 21 22 23]]\n",
      "\n"
     ]
    }
   ],
   "source": [
    "x[(x>10)&(x<17)]=-1\n",
    "print()\n",
    "print(\"x= \\n\",x)\n",
    "print()"
   ]
  },
  {
   "cell_type": "code",
   "execution_count": 24,
   "metadata": {},
   "outputs": [
    {
     "name": "stdout",
     "output_type": "stream",
     "text": [
      "intersection of x and y [2 4]\n",
      "difference of x and y [1 3 5]\n",
      "union of x and y [1 2 3 4 5 6 7 8]\n"
     ]
    }
   ],
   "source": [
    "x=np.array([1,2,3,4,5])\n",
    "y=np.array([6,7,2,8,4])\n",
    "\n",
    "print(\"intersection of x and y\",np.intersect1d(x,y))\n",
    "print(\"difference of x and y\",np.setdiff1d(x,y))\n",
    "print(\"union of x and y\",np.union1d(x,y))"
   ]
  },
  {
   "cell_type": "code",
   "execution_count": 33,
   "metadata": {},
   "outputs": [
    {
     "name": "stdout",
     "output_type": "stream",
     "text": [
      "\n",
      "x= \n",
      " [ 2  5 10  8  8  5  8  7  3  0]\n",
      "\n",
      "\n",
      "sorted = \n",
      " [ 0  2  3  5  5  7  8  8  8 10]\n",
      "\n",
      "\n",
      "x= \n",
      " [ 2  5 10  8  8  5  8  7  3  0]\n",
      "\n",
      "\n",
      "x= \n",
      " [ 0  2  3  5  7  8 10]\n",
      "\n",
      "\n",
      "x= \n",
      " [ 2  5 10  8  8  5  8  7  3  0]\n",
      "\n"
     ]
    }
   ],
   "source": [
    "x=np.random.randint(0,11,size=[10,])\n",
    "\n",
    "print()\n",
    "print(\"x= \\n\",x)\n",
    "print()\n",
    "\n",
    "print()\n",
    "print(\"sorted = \\n\",np.sort(x))\n",
    "print()\n",
    "\n",
    "print()\n",
    "print(\"x= \\n\",x)\n",
    "print()\n",
    "\n",
    "print()\n",
    "print(\"x= \\n\",np.sort(np.unique(x)))\n",
    "print()\n",
    "\n",
    "print()\n",
    "print(\"x= \\n\",x)\n",
    "print()"
   ]
  },
  {
   "cell_type": "code",
   "execution_count": 31,
   "metadata": {},
   "outputs": [
    {
     "name": "stdout",
     "output_type": "stream",
     "text": [
      "\n",
      "x= \n",
      " [ 1  6  3  8  2  8  0  0  6 10]\n",
      "\n",
      "\n",
      "x= \n",
      " [ 0  0  1  2  3  6  6  8  8 10]\n",
      "\n"
     ]
    }
   ],
   "source": [
    "x=np.random.randint(0,11,size=(10,))\n",
    "\n",
    "print()\n",
    "print(\"x= \\n\",x)\n",
    "print()\n",
    "\n",
    "x.sort()\n",
    "\n",
    "print()\n",
    "print(\"x= \\n\",x)\n",
    "print()\n",
    "\n"
   ]
  },
  {
   "cell_type": "code",
   "execution_count": 38,
   "metadata": {},
   "outputs": [
    {
     "name": "stdout",
     "output_type": "stream",
     "text": [
      "\n",
      "x= \n",
      " [[ 6 10  7  3]\n",
      " [ 7 10  4  7]\n",
      " [ 5  4  9  8]\n",
      " [ 6  5  7  1]\n",
      " [ 7  8 10  6]]\n",
      "\n",
      "\n",
      "w= \n",
      " [[ 5  4  4  1]\n",
      " [ 6  5  7  3]\n",
      " [ 6  8  7  6]\n",
      " [ 7 10  9  7]\n",
      " [ 7 10 10  8]]\n",
      "\n",
      "\n",
      "v= \n",
      " [[ 3  6  7 10]\n",
      " [ 4  7  7 10]\n",
      " [ 4  5  8  9]\n",
      " [ 1  5  6  7]\n",
      " [ 6  7  8 10]]\n",
      "\n"
     ]
    }
   ],
   "source": [
    "x=np.random.randint(1,11,size=(5,4))\n",
    "\n",
    "print()\n",
    "print(\"x= \\n\",x)\n",
    "print()\n",
    "\n",
    "w=np.sort(x,axis=0)\n",
    "\n",
    "print()\n",
    "print(\"w= \\n\",w)\n",
    "print()\n",
    "\n",
    "v=np.sort(x,axis=1)\n",
    "\n",
    "print()\n",
    "print(\"v= \\n\",v)\n",
    "print()"
   ]
  },
  {
   "cell_type": "code",
   "execution_count": null,
   "metadata": {},
   "outputs": [],
   "source": []
  }
 ],
 "metadata": {
  "kernelspec": {
   "display_name": "Python 3",
   "language": "python",
   "name": "python3"
  },
  "language_info": {
   "codemirror_mode": {
    "name": "ipython",
    "version": 3
   },
   "file_extension": ".py",
   "mimetype": "text/x-python",
   "name": "python",
   "nbconvert_exporter": "python",
   "pygments_lexer": "ipython3",
   "version": "3.7.9"
  }
 },
 "nbformat": 4,
 "nbformat_minor": 4
}

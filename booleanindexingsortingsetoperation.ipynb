{
 "cells": [
  {
   "cell_type": "code",
   "execution_count": 1,
   "metadata": {},
   "outputs": [],
   "source": [
    "import numpy as np"
   ]
  },
  {
   "cell_type": "code",
   "execution_count": 2,
   "metadata": {},
   "outputs": [
    {
     "name": "stdout",
     "output_type": "stream",
     "text": [
      "\n",
      "x= \n",
      " [[ 0  1  2  3]\n",
      " [ 4  5  6  7]\n",
      " [ 8  9 10 11]\n",
      " [12 13 14 15]\n",
      " [16 17 18 19]\n",
      " [20 21 22 23]]\n",
      "\n"
     ]
    }
   ],
   "source": [
    "x=np.arange(24).reshape(6,4)\n",
    "\n",
    "print()\n",
    "print(\"x= \\n\",x)\n",
    "print()"
   ]
  },
  {
   "cell_type": "code",
   "execution_count": 3,
   "metadata": {},
   "outputs": [
    {
     "name": "stdout",
     "output_type": "stream",
     "text": [
      "elements those are greater than 10 [11 12 13 14 15 16 17 18 19 20 21 22 23]\n",
      "eleements those are lesss than 10 [0 1 2 3 4 5 6 7 8 9]\n",
      "elements those are betwwen 10 and 17 [11 12 13 14 15 16]\n"
     ]
    }
   ],
   "source": [
    "print(\"elements those are greater than 10\",x[x>10])\n",
    "print(\"eleements those are lesss than 10\",x[x<10])\n",
    "print(\"elements those are betwwen 10 and 17\",x[(x>10) & (x<17)])"
   ]
  },
  {
   "cell_type": "code",
   "execution_count": 4,
   "metadata": {},
   "outputs": [
    {
     "name": "stdout",
     "output_type": "stream",
     "text": [
      "\n",
      "x= \n",
      " [[ 0  1  2  3]\n",
      " [ 4  5  6  7]\n",
      " [ 8  9 10 -1]\n",
      " [-1 -1 -1 -1]\n",
      " [-1 17 18 19]\n",
      " [20 21 22 23]]\n",
      "\n"
     ]
    }
   ],
   "source": [
    "x[(x>10)&(x<17)]=-1\n",
    "print()\n",
    "print(\"x= \\n\",x)\n",
    "print()"
   ]
  },
  {
   "cell_type": "code",
   "execution_count": 5,
   "metadata": {},
   "outputs": [
    {
     "name": "stdout",
     "output_type": "stream",
     "text": [
      "intersection of x and y [2 4]\n",
      "difference of x and y [1 3 5]\n",
      "union of x and y [1 2 3 4 5 6 7 8]\n"
     ]
    }
   ],
   "source": [
    "x=np.array([1,2,3,4,5])\n",
    "y=np.array([6,7,2,8,4])\n",
    "\n",
    "print(\"intersection of x and y\",np.intersect1d(x,y))\n",
    "print(\"difference of x and y\",np.setdiff1d(x,y))\n",
    "print(\"union of x and y\",np.union1d(x,y))"
   ]
  },
  {
   "cell_type": "code",
   "execution_count": 6,
   "metadata": {},
   "outputs": [
    {
     "name": "stdout",
     "output_type": "stream",
     "text": [
      "\n",
      "x= \n",
      " [ 7 10  6  6  3  2  7 10  7  8]\n",
      "\n",
      "\n",
      "sorted = \n",
      " [ 2  3  6  6  7  7  7  8 10 10]\n",
      "\n",
      "\n",
      "x= \n",
      " [ 7 10  6  6  3  2  7 10  7  8]\n",
      "\n",
      "\n",
      "x= \n",
      " [ 2  3  6  7  8 10]\n",
      "\n",
      "\n",
      "x= \n",
      " [ 7 10  6  6  3  2  7 10  7  8]\n",
      "\n"
     ]
    }
   ],
   "source": [
    "x=np.random.randint(0,11,size=[10,])\n",
    "\n",
    "print()\n",
    "print(\"x= \\n\",x)\n",
    "print()\n",
    "\n",
    "print()\n",
    "print(\"sorted = \\n\",np.sort(x))\n",
    "print()\n",
    "\n",
    "print()\n",
    "print(\"x= \\n\",x)\n",
    "print()\n",
    "\n",
    "print()\n",
    "print(\"x= \\n\",np.sort(np.unique(x)))\n",
    "print()\n",
    "\n",
    "print()\n",
    "print(\"x= \\n\",x)\n",
    "print()"
   ]
  },
  {
   "cell_type": "code",
   "execution_count": 7,
   "metadata": {},
   "outputs": [
    {
     "name": "stdout",
     "output_type": "stream",
     "text": [
      "\n",
      "x= \n",
      " [1 0 7 3 3 5 6 7 3 1]\n",
      "\n",
      "\n",
      "x= \n",
      " [0 1 1 3 3 3 5 6 7 7]\n",
      "\n"
     ]
    }
   ],
   "source": [
    "x=np.random.randint(0,11,size=(10,))\n",
    "\n",
    "print()\n",
    "print(\"x= \\n\",x)\n",
    "print()\n",
    "\n",
    "x.sort()\n",
    "\n",
    "print()\n",
    "print(\"x= \\n\",x)\n",
    "print()\n",
    "\n"
   ]
  },
  {
   "cell_type": "code",
   "execution_count": 8,
   "metadata": {},
   "outputs": [
    {
     "name": "stdout",
     "output_type": "stream",
     "text": [
      "\n",
      "x= \n",
      " [[ 6 10  7  8]\n",
      " [10  1  4  4]\n",
      " [10  9  4  3]\n",
      " [ 8  7  7  9]\n",
      " [ 8 10  5  8]]\n",
      "\n",
      "\n",
      "w= \n",
      " [[ 6  1  4  3]\n",
      " [ 8  7  4  4]\n",
      " [ 8  9  5  8]\n",
      " [10 10  7  8]\n",
      " [10 10  7  9]]\n",
      "\n",
      "\n",
      "v= \n",
      " [[ 6  7  8 10]\n",
      " [ 1  4  4 10]\n",
      " [ 3  4  9 10]\n",
      " [ 7  7  8  9]\n",
      " [ 5  8  8 10]]\n",
      "\n"
     ]
    }
   ],
   "source": [
    "x=np.random.randint(1,11,size=(5,4))\n",
    "\n",
    "print()\n",
    "print(\"x= \\n\",x)\n",
    "print()\n",
    "\n",
    "w=np.sort(x,axis=0)\n",
    "\n",
    "print()\n",
    "print(\"w= \\n\",w)\n",
    "print()\n",
    "\n",
    "v=np.sort(x,axis=1)\n",
    "\n",
    "print()\n",
    "print(\"v= \\n\",v)\n",
    "print()"
   ]
  },
  {
   "cell_type": "code",
   "execution_count": 12,
   "metadata": {},
   "outputs": [
    {
     "name": "stdout",
     "output_type": "stream",
     "text": [
      "\n",
      "x = \n",
      " [[ 0  1  2  3]\n",
      " [ 4  5  6  7]\n",
      " [ 8  9 10 11]\n",
      " [12 13 14 15]\n",
      " [16 17 18 19]]\n",
      "\n",
      "element greater than  [11 12 13 14 15 16 17 18 19]\n",
      "elements less than,x [0 1 2 3 4 5 6 7 8 9]\n",
      "elements between 10 and 17 [11 12 13 14 15 16]\n"
     ]
    }
   ],
   "source": [
    "# practice\n",
    "x=np.arange(20).reshape(5,4)\n",
    "\n",
    "print()\n",
    "print(\"x = \\n\",x)\n",
    "print()\n",
    "\n",
    "print(\"element greater than \",x[x>10])\n",
    "print(\"elements less than,x\",x[x<10])\n",
    "print(\"elements between 10 and 17\",x[(x>10)&(x<17)])"
   ]
  },
  {
   "cell_type": "code",
   "execution_count": 18,
   "metadata": {},
   "outputs": [
    {
     "name": "stdout",
     "output_type": "stream",
     "text": [
      "intersect  [2 4]\n",
      "differ [1 3 5]\n",
      "union [1 2 3 4 5 6 7 8]\n"
     ]
    }
   ],
   "source": [
    "x=np.array([1,2,3,4,5])\n",
    "y=np.array([2,4,6,7,8])\n",
    "\n",
    "print(\"intersect \",np.intersect1d(x,y))\n",
    "print(\"differ\",np.setdiff1d(x,y))\n",
    "print(\"union\",np.union1d(x,y))"
   ]
  },
  {
   "cell_type": "code",
   "execution_count": 25,
   "metadata": {},
   "outputs": [
    {
     "name": "stdout",
     "output_type": "stream",
     "text": [
      "\n",
      "x = \n",
      " [3 6 9 8 1 9 7 2 8 2]\n",
      "\n",
      "\n",
      "w = \n",
      " [1 2 2 3 6 7 8 8 9 9]\n",
      "\n",
      "\n",
      "x = \n",
      " [3 6 9 8 1 9 7 2 8 2]\n",
      "\n",
      "\n",
      "x = \n",
      " [1 2 2 3 6 7 8 8 9 9]\n",
      "\n"
     ]
    }
   ],
   "source": [
    "x=np.random.randint(0,11,size=[10,])\n",
    "\n",
    "print()\n",
    "print(\"x = \\n\",x)\n",
    "print()\n",
    "\n",
    "w=np.sort(x)\n",
    "\n",
    "print()\n",
    "print(\"w = \\n\",w)\n",
    "print()\n",
    "\n",
    "\n",
    "\n",
    "\n",
    "\n",
    "print()\n",
    "print(\"x = \\n\",x)\n",
    "print()\n",
    "\n",
    "x.sort()\n",
    "print()\n",
    "print(\"x = \\n\",x)\n",
    "print()"
   ]
  },
  {
   "cell_type": "code",
   "execution_count": 27,
   "metadata": {},
   "outputs": [
    {
     "name": "stdout",
     "output_type": "stream",
     "text": [
      "\n",
      "x = \n",
      " [[ 2 19 14 20]\n",
      " [16  5 11  3]\n",
      " [10  1  4  6]\n",
      " [19  5 11  2]\n",
      " [20 16  9 12]]\n",
      "\n",
      "\n",
      "x = \n",
      " [[ 2  1  4  2]\n",
      " [10  5  9  3]\n",
      " [16  5 11  6]\n",
      " [19 16 11 12]\n",
      " [20 19 14 20]]\n",
      "\n",
      "\n",
      "x = \n",
      " [[ 1  2  2  4]\n",
      " [ 3  5  9 10]\n",
      " [ 5  6 11 16]\n",
      " [11 12 16 19]\n",
      " [14 19 20 20]]\n",
      "\n"
     ]
    }
   ],
   "source": [
    "x=np.random.randint(0,21,size=[5,4])\n",
    "\n",
    "print()\n",
    "print(\"x = \\n\",x)\n",
    "print()\n",
    "\n",
    "x=np.sort(x,axis=0)\n",
    "\n",
    "print()\n",
    "print(\"x = \\n\",x)\n",
    "print()\n",
    "\n",
    "x=np.sort(x,axis=1)\n",
    "\n",
    "print()\n",
    "print(\"x = \\n\",x)\n",
    "print()"
   ]
  },
  {
   "cell_type": "code",
   "execution_count": null,
   "metadata": {},
   "outputs": [],
   "source": []
  }
 ],
 "metadata": {
  "kernelspec": {
   "display_name": "Python 3",
   "language": "python",
   "name": "python3"
  },
  "language_info": {
   "codemirror_mode": {
    "name": "ipython",
    "version": 3
   },
   "file_extension": ".py",
   "mimetype": "text/x-python",
   "name": "python",
   "nbconvert_exporter": "python",
   "pygments_lexer": "ipython3",
   "version": "3.7.9"
  }
 },
 "nbformat": 4,
 "nbformat_minor": 4
}

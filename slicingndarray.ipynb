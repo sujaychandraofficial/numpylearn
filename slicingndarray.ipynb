{
 "cells": [
  {
   "cell_type": "code",
   "execution_count": 1,
   "metadata": {},
   "outputs": [],
   "source": [
    "import numpy as np"
   ]
  },
  {
   "cell_type": "code",
   "execution_count": 2,
   "metadata": {},
   "outputs": [
    {
     "name": "stdout",
     "output_type": "stream",
     "text": [
      "\n",
      "x = \n",
      " [[ 0  1  2  3  4]\n",
      " [ 5  6  7  8  9]\n",
      " [10 11 12 13 14]\n",
      " [15 16 17 18 19]]\n",
      "\n"
     ]
    }
   ],
   "source": [
    "x=np.arange(20).reshape((4,5))\n",
    "\n",
    "print()\n",
    "print(\"x = \\n\",x)\n",
    "print()"
   ]
  },
  {
   "cell_type": "code",
   "execution_count": 3,
   "metadata": {},
   "outputs": [
    {
     "name": "stdout",
     "output_type": "stream",
     "text": [
      "\n",
      "z = \n",
      " [[ 7  8  9]\n",
      " [12 13 14]\n",
      " [17 18 19]]\n",
      "\n"
     ]
    }
   ],
   "source": [
    "z=x[1:4,2:5]\n",
    "\n",
    "print()\n",
    "print(\"z = \\n\",z)\n",
    "print()"
   ]
  },
  {
   "cell_type": "code",
   "execution_count": 4,
   "metadata": {},
   "outputs": [
    {
     "name": "stdout",
     "output_type": "stream",
     "text": [
      "\n",
      "z = \n",
      " [[ 7  8  9]\n",
      " [12 13 14]\n",
      " [17 18 19]]\n",
      "\n"
     ]
    }
   ],
   "source": [
    "z=x[1:,2:]\n",
    "print()\n",
    "print(\"z = \\n\",z)\n",
    "print()"
   ]
  },
  {
   "cell_type": "code",
   "execution_count": 5,
   "metadata": {},
   "outputs": [
    {
     "name": "stdout",
     "output_type": "stream",
     "text": [
      "\n",
      "z = \n",
      " [[ 7  8  9]\n",
      " [12 13 14]\n",
      " [17 18 19]]\n",
      "\n"
     ]
    }
   ],
   "source": [
    "z=x[1:,2:5]\n",
    "print()\n",
    "print(\"z = \\n\",z)\n",
    "print()"
   ]
  },
  {
   "cell_type": "code",
   "execution_count": 6,
   "metadata": {},
   "outputs": [
    {
     "name": "stdout",
     "output_type": "stream",
     "text": [
      "\n",
      "v = \n",
      " [10 11 12 13 14]\n",
      "\n"
     ]
    }
   ],
   "source": [
    "v=x[2,:]\n",
    "print()\n",
    "print(\"v = \\n\",v)\n",
    "print()"
   ]
  },
  {
   "cell_type": "code",
   "execution_count": 7,
   "metadata": {},
   "outputs": [
    {
     "name": "stdout",
     "output_type": "stream",
     "text": [
      "\n",
      "c = \n",
      " [ 3  8 13 18]\n",
      "\n"
     ]
    }
   ],
   "source": [
    "c=x[:,3]\n",
    "\n",
    "print()\n",
    "print(\"c = \\n\",c)\n",
    "print()"
   ]
  },
  {
   "cell_type": "code",
   "execution_count": 8,
   "metadata": {},
   "outputs": [
    {
     "name": "stdout",
     "output_type": "stream",
     "text": [
      "\n",
      "b = \n",
      " [ 2  7 12 17]\n",
      "\n"
     ]
    }
   ],
   "source": [
    "b=x[:,2]\n",
    "\n",
    "print()\n",
    "print(\"b = \\n\",b)\n",
    "print()"
   ]
  },
  {
   "cell_type": "code",
   "execution_count": 9,
   "metadata": {},
   "outputs": [
    {
     "name": "stdout",
     "output_type": "stream",
     "text": [
      "\n",
      "r = \n",
      " [[ 2]\n",
      " [ 7]\n",
      " [12]\n",
      " [17]]\n",
      "\n"
     ]
    }
   ],
   "source": [
    "r=x[:,2:3]\n",
    "print()\n",
    "print(\"r = \\n\",r)\n",
    "print()"
   ]
  },
  {
   "cell_type": "code",
   "execution_count": 10,
   "metadata": {},
   "outputs": [
    {
     "name": "stdout",
     "output_type": "stream",
     "text": [
      "\n",
      "x = \n",
      " [[ 0  1  2  3  4]\n",
      " [ 5  6  7  8  9]\n",
      " [10 11 12 13 14]\n",
      " [15 16 17 18 19]]\n",
      "\n",
      "\n",
      "z = \n",
      " [[ 7  8  9]\n",
      " [12 13 14]\n",
      " [17 18 19]]\n",
      "\n",
      "\n",
      "x = \n",
      " [[  0   1   2   3   4]\n",
      " [  5   6   7   8   9]\n",
      " [ 10  11  12  13  14]\n",
      " [ 15  16  17  18 555]]\n",
      "\n"
     ]
    }
   ],
   "source": [
    "x=np.arange(20).reshape(4,5)\n",
    "\n",
    "print()\n",
    "print(\"x = \\n\",x)\n",
    "print()\n",
    "\n",
    "z=x[1:4,2:5]\n",
    "\n",
    "print()\n",
    "print(\"z = \\n\",z)\n",
    "print()\n",
    "\n",
    "z[2][2]=555\n",
    "\n",
    "print()\n",
    "print(\"x = \\n\",x)\n",
    "print()"
   ]
  },
  {
   "cell_type": "code",
   "execution_count": 11,
   "metadata": {},
   "outputs": [
    {
     "name": "stdout",
     "output_type": "stream",
     "text": [
      "\n",
      "x = \n",
      " [[ 0  1  2  3  4]\n",
      " [ 5  6  7  8  9]\n",
      " [10 11 12 13 14]\n",
      " [15 16 17 18 19]]\n",
      "\n",
      "\n",
      "z = \n",
      " [[  7   8   9]\n",
      " [ 12  13  14]\n",
      " [ 17  18 555]]\n",
      "\n",
      "\n",
      "v = \n",
      " [[  7   8   9]\n",
      " [ 12  13  14]\n",
      " [ 17  18 444]]\n",
      "\n"
     ]
    }
   ],
   "source": [
    "x=np.arange(20).reshape(4,5)\n",
    "\n",
    "z=np.copy(x[1:,2:5])\n",
    "z[2][2]=555\n",
    "\n",
    "v=x[1:4,2:5].copy()\n",
    "v[2][2]=444\n",
    "\n",
    "print()\n",
    "print(\"x = \\n\",x)\n",
    "print()\n",
    "\n",
    "print()\n",
    "print(\"z = \\n\",z)\n",
    "print()\n",
    "\n",
    "print()\n",
    "print(\"v = \\n\",v)\n",
    "print()\n"
   ]
  },
  {
   "cell_type": "code",
   "execution_count": 12,
   "metadata": {},
   "outputs": [
    {
     "name": "stdout",
     "output_type": "stream",
     "text": [
      "\n",
      "slices = \n",
      " [2 3]\n",
      "\n",
      "\n",
      "x = \n",
      " [[ 0  1  2  3  4]\n",
      " [ 5  6  7  8  9]\n",
      " [10 11 12 13 14]\n",
      " [15 16 17 18 19]]\n",
      "\n",
      "\n",
      "y = \n",
      " [[ 2  3]\n",
      " [ 7  8]\n",
      " [12 13]\n",
      " [17 18]]\n",
      "\n",
      "\n",
      "z= \n",
      " [[10 11 12 13 14]\n",
      " [15 16 17 18 19]]\n",
      "\n"
     ]
    }
   ],
   "source": [
    "x=np.arange(20).reshape([4,5])\n",
    "\n",
    "slices=np.array([2,3])\n",
    "\n",
    "print()\n",
    "print(\"slices = \\n\",slices)\n",
    "print()\n",
    "\n",
    "\n",
    "print()\n",
    "print(\"x = \\n\",x)\n",
    "print()\n",
    "\n",
    "y=x[:,slices]\n",
    "\n",
    "print()\n",
    "print(\"y = \\n\",y)\n",
    "print()\n",
    "\n",
    "z=x[slices,:]\n",
    "print()\n",
    "print(\"z= \\n\",z)\n",
    "print()"
   ]
  },
  {
   "cell_type": "code",
   "execution_count": 13,
   "metadata": {},
   "outputs": [
    {
     "name": "stdout",
     "output_type": "stream",
     "text": [
      "\n",
      "x = \n",
      " [[ 0  1  2  3  4]\n",
      " [ 5  6  7  8  9]\n",
      " [10 11 12 13 14]\n",
      " [15 16 17 18 19]]\n",
      "\n",
      "\n",
      "w = \n",
      " [ 0  6 12 18]\n",
      "\n",
      "\n",
      "v = \n",
      " [ 1  7 13 19]\n",
      "\n",
      "\n",
      "b = \n",
      " [ 5 11 17]\n",
      "\n"
     ]
    }
   ],
   "source": [
    "x=np.arange(20).reshape(4,5)\n",
    "print()\n",
    "print(\"x = \\n\",x)\n",
    "print()\n",
    "\n",
    "w=np.diag(x)\n",
    "\n",
    "print()\n",
    "print(\"w = \\n\",w)\n",
    "print()\n",
    "\n",
    "\n",
    "v=np.diag(x,k=1)\n",
    "print()\n",
    "print(\"v = \\n\",v)\n",
    "print()\n",
    "\n",
    "b=np.diag(x,k=-1)\n",
    "print()\n",
    "print(\"b = \\n\",b)\n",
    "print()\n"
   ]
  },
  {
   "cell_type": "code",
   "execution_count": 14,
   "metadata": {},
   "outputs": [
    {
     "name": "stdout",
     "output_type": "stream",
     "text": [
      "\n",
      "x = \n",
      " [[ 0  1  2  3]\n",
      " [ 4  5  6  7]\n",
      " [ 8  9 10 11]\n",
      " [12 13 14 15]\n",
      " [16 17 18 19]]\n",
      "\n",
      "\n",
      "w = \n",
      " [[10 11]\n",
      " [14 15]\n",
      " [18 19]]\n",
      "\n",
      "\n",
      "v = \n",
      " [[10 11]\n",
      " [14 15]\n",
      " [18 19]]\n",
      "\n",
      "\n",
      "b = \n",
      " [[10 11]\n",
      " [14 15]\n",
      " [18 19]]\n",
      "\n",
      "\n",
      "w = \n",
      " [ 8  9 10 11]\n",
      "\n",
      "\n",
      "v = \n",
      " [ 2  6 10 14 18]\n",
      "\n"
     ]
    }
   ],
   "source": [
    "# practice slicing\n",
    "x=np.arange(20).reshape((5,4))\n",
    "\n",
    "print()\n",
    "print(\"x = \\n\",x)\n",
    "print()\n",
    "\n",
    "w=x[2:5,2:4]\n",
    "\n",
    "\n",
    "print()\n",
    "print(\"w = \\n\",w)\n",
    "print()\n",
    "\n",
    "v=x[2:,2:4]\n",
    "\n",
    "\n",
    "print()\n",
    "print(\"v = \\n\",v)\n",
    "print()\n",
    "\n",
    "b=x[2:,2:]\n",
    "\n",
    "print()\n",
    "print(\"b = \\n\",b)\n",
    "print()\n",
    "\n",
    "w=x[2,:]\n",
    "\n",
    "print()\n",
    "print(\"w = \\n\",w)\n",
    "print()\n",
    "\n",
    "v=x[:,2]\n",
    "print()\n",
    "print(\"v = \\n\",v)\n",
    "print()"
   ]
  },
  {
   "cell_type": "code",
   "execution_count": 15,
   "metadata": {},
   "outputs": [
    {
     "name": "stdout",
     "output_type": "stream",
     "text": [
      "\n",
      "x = \n",
      " [[ 0  1  2  3  4  5]\n",
      " [ 6  7  8  9 10 11]\n",
      " [12 13 14 15 16 17]\n",
      " [18 19 20 21 22 23]]\n",
      "\n",
      "\n",
      "w = \n",
      " [[ 8  9 10 11]\n",
      " [14 15 16 17]\n",
      " [20 21 22 23]]\n",
      "\n",
      "\n",
      "w = \n",
      " [[  8   9  10  11]\n",
      " [ 14  15  16  17]\n",
      " [ 20  21  22 555]]\n",
      "\n",
      "\n",
      "x = \n",
      " [[  0   1   2   3   4   5]\n",
      " [  6   7   8   9  10  11]\n",
      " [ 12  13  14  15  16  17]\n",
      " [ 18  19  20  21  22 555]]\n",
      "\n"
     ]
    }
   ],
   "source": [
    "x=np.arange(24).reshape((4,6))\n",
    "\n",
    "print()\n",
    "print(\"x = \\n\",x)\n",
    "print()\n",
    "\n",
    "w=x[1:,2:]\n",
    "\n",
    "print()\n",
    "print(\"w = \\n\",w)\n",
    "print()\n",
    "\n",
    "w[2][3]=555\n",
    "\n",
    "print()\n",
    "print(\"w = \\n\",w)\n",
    "print()\n",
    "\n",
    "\n",
    "print()\n",
    "print(\"x = \\n\",x)\n",
    "print()"
   ]
  },
  {
   "cell_type": "code",
   "execution_count": 16,
   "metadata": {},
   "outputs": [
    {
     "name": "stdout",
     "output_type": "stream",
     "text": [
      "\n",
      "x = \n",
      " [[ 0  1  2  3]\n",
      " [ 4  5  6  7]\n",
      " [ 8  9 10 11]\n",
      " [12 13 14 15]\n",
      " [16 17 18 19]\n",
      " [20 21 22 23]]\n",
      "\n",
      "\n",
      "w = \n",
      " [[ 6  7]\n",
      " [10 11]\n",
      " [14 15]\n",
      " [18 19]\n",
      " [22 23]]\n",
      "\n",
      "\n",
      "w = \n",
      " [[  6   7]\n",
      " [ 10  11]\n",
      " [ 14 555]\n",
      " [ 18  19]\n",
      " [ 22  23]]\n",
      "\n",
      "\n",
      "x = \n",
      " [[ 0  1  2  3]\n",
      " [ 4  5  6  7]\n",
      " [ 8  9 10 11]\n",
      " [12 13 14 15]\n",
      " [16 17 18 19]\n",
      " [20 21 22 23]]\n",
      "\n"
     ]
    }
   ],
   "source": [
    "x=np.arange(24).reshape(6,4)\n",
    "print()\n",
    "print(\"x = \\n\",x)\n",
    "print()\n",
    "\n",
    "\n",
    "w=np.copy(x[1:,2:])\n",
    "\n",
    "print()\n",
    "print(\"w = \\n\",w)\n",
    "print()\n",
    "\n",
    "w[2][1]=555\n",
    "\n",
    "print()\n",
    "print(\"w = \\n\",w)\n",
    "print()\n",
    "\n",
    "print()\n",
    "print(\"x = \\n\",x)\n",
    "print()"
   ]
  },
  {
   "cell_type": "code",
   "execution_count": 17,
   "metadata": {},
   "outputs": [
    {
     "name": "stdout",
     "output_type": "stream",
     "text": [
      "\n",
      "x = \n",
      " [[ 0  1  2  3]\n",
      " [ 4  5  6  7]\n",
      " [ 8  9 10 11]\n",
      " [12 13 14 15]\n",
      " [16 17 18 19]\n",
      " [20 21 22 23]]\n",
      "\n",
      "\n",
      "w = \n",
      " [[ 6  7]\n",
      " [10 11]\n",
      " [14 15]\n",
      " [18 19]\n",
      " [22 23]]\n",
      "\n",
      "\n",
      "w = \n",
      " [[  6   7]\n",
      " [ 10  11]\n",
      " [ 14 555]\n",
      " [ 18  19]\n",
      " [ 22  23]]\n",
      "\n",
      "\n",
      "x = \n",
      " [[ 0  1  2  3]\n",
      " [ 4  5  6  7]\n",
      " [ 8  9 10 11]\n",
      " [12 13 14 15]\n",
      " [16 17 18 19]\n",
      " [20 21 22 23]]\n",
      "\n"
     ]
    }
   ],
   "source": [
    "x=np.arange(24).reshape(6,4)\n",
    "print()\n",
    "print(\"x = \\n\",x)\n",
    "print()\n",
    "\n",
    "\n",
    "w=x[1:,2:].copy()\n",
    "\n",
    "print()\n",
    "print(\"w = \\n\",w)\n",
    "print()\n",
    "\n",
    "w[2][1]=555\n",
    "\n",
    "print()\n",
    "print(\"w = \\n\",w)\n",
    "print()\n",
    "\n",
    "print()\n",
    "print(\"x = \\n\",x)\n",
    "print()\n"
   ]
  },
  {
   "cell_type": "code",
   "execution_count": 18,
   "metadata": {},
   "outputs": [
    {
     "name": "stdout",
     "output_type": "stream",
     "text": [
      "\n",
      "x = \n",
      " [[ 0  1  2  3  4]\n",
      " [ 5  6  7  8  9]\n",
      " [10 11 12 13 14]\n",
      " [15 16 17 18 19]]\n",
      "\n",
      "\n",
      "w = \n",
      " [[ 5  6  7  8  9]\n",
      " [15 16 17 18 19]]\n",
      "\n",
      "\n",
      "v = \n",
      " [[ 1  3]\n",
      " [ 6  8]\n",
      " [11 13]\n",
      " [16 18]]\n",
      "\n"
     ]
    }
   ],
   "source": [
    "x=np.arange(20).reshape([4,5])\n",
    "\n",
    "print()\n",
    "print(\"x = \\n\",x)\n",
    "print()\n",
    "\n",
    "indices=[1,3]\n",
    "\n",
    "w=x[indices,:]\n",
    "\n",
    "print()\n",
    "print(\"w = \\n\",w)\n",
    "print()\n",
    "\n",
    "v=x[:,indices]\n",
    "\n",
    "print()\n",
    "print(\"v = \\n\",v)\n",
    "print()"
   ]
  },
  {
   "cell_type": "code",
   "execution_count": 19,
   "metadata": {},
   "outputs": [
    {
     "name": "stdout",
     "output_type": "stream",
     "text": [
      "\n",
      "x = \n",
      " [[ 0  1  2  3  4]\n",
      " [ 5  6  7  8  9]\n",
      " [10 11 12 13 14]\n",
      " [15 16 17 18 19]]\n",
      "\n",
      "\n",
      "w = \n",
      " [ 0  6 12 18]\n",
      "\n",
      "\n",
      "v = \n",
      " [ 1  7 13 19]\n",
      "\n",
      "\n",
      "b = \n",
      " [ 5 11 17]\n",
      "\n"
     ]
    }
   ],
   "source": [
    "x=np.arange(20).reshape(4,5)\n",
    "\n",
    "print()\n",
    "print(\"x = \\n\",x)\n",
    "print()\n",
    "\n",
    "w=np.diag(x)\n",
    "\n",
    "print()\n",
    "print(\"w = \\n\",w)\n",
    "print()\n",
    "\n",
    "v=np.diag(x,k=1)\n",
    "\n",
    "print()\n",
    "print(\"v = \\n\",v)\n",
    "print()\n",
    "b=np.diag(x,k=-1)\n",
    "\n",
    "print()\n",
    "print(\"b = \\n\",b)\n",
    "print()"
   ]
  },
  {
   "cell_type": "code",
   "execution_count": 30,
   "metadata": {},
   "outputs": [
    {
     "name": "stdout",
     "output_type": "stream",
     "text": [
      "\n",
      "x = \n",
      " [[ 1  2  3  4  5]\n",
      " [ 6  7  8  9 10]\n",
      " [11 12 13 14 15]\n",
      " [16 17 18 19 20]\n",
      " [21 22 23 24 25]]\n",
      "\n",
      "\n",
      "y = \n",
      " [ 1  3  5  7  9 11 13 15 17 19 21 23 25]\n",
      "\n"
     ]
    }
   ],
   "source": [
    "\n",
    "\n",
    "# Create a 5 x 5 ndarray with consecutive integers from 1 to 25 (inclusive).\n",
    "# Afterwards use Boolean indexing to pick out only the odd numbers in the array\n",
    "\n",
    "# Create a 5 x 5 ndarray with consecutive integers from 1 to 25 (inclusive).\n",
    "x = np.arange(1,26).reshape(5,5)\n",
    "\n",
    "\n",
    "\n",
    "\n",
    "print()\n",
    "print(\"x = \\n\",x)\n",
    "print()\n",
    "\n",
    "# Use Boolean indexing to pick out only the odd numbers in the array\n",
    "y = x[x%2!=0]\n",
    "\n",
    "\n",
    "print()\n",
    "print(\"y = \\n\",y)\n",
    "print()"
   ]
  },
  {
   "cell_type": "code",
   "execution_count": null,
   "metadata": {},
   "outputs": [],
   "source": []
  },
  {
   "cell_type": "code",
   "execution_count": null,
   "metadata": {},
   "outputs": [],
   "source": []
  }
 ],
 "metadata": {
  "kernelspec": {
   "display_name": "Python 3",
   "language": "python",
   "name": "python3"
  },
  "language_info": {
   "codemirror_mode": {
    "name": "ipython",
    "version": 3
   },
   "file_extension": ".py",
   "mimetype": "text/x-python",
   "name": "python",
   "nbconvert_exporter": "python",
   "pygments_lexer": "ipython3",
   "version": "3.7.9"
  }
 },
 "nbformat": 4,
 "nbformat_minor": 4
}

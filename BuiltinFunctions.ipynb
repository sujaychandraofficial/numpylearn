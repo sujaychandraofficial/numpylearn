{
 "cells": [
  {
   "cell_type": "code",
   "execution_count": 1,
   "metadata": {},
   "outputs": [],
   "source": [
    "import numpy as np"
   ]
  },
  {
   "cell_type": "code",
   "execution_count": 2,
   "metadata": {},
   "outputs": [],
   "source": [
    "# we create a numpy array of zeros with 3*4\n",
    "x=np.zeros((3,4))"
   ]
  },
  {
   "cell_type": "code",
   "execution_count": 3,
   "metadata": {},
   "outputs": [
    {
     "name": "stdout",
     "output_type": "stream",
     "text": [
      "\n",
      "[[0. 0. 0. 0.]\n",
      " [0. 0. 0. 0.]\n",
      " [0. 0. 0. 0.]]\n",
      "\n"
     ]
    }
   ],
   "source": [
    "# print the array\n",
    "\n",
    "print()\n",
    "print(x)\n",
    "print()"
   ]
  },
  {
   "cell_type": "code",
   "execution_count": 4,
   "metadata": {},
   "outputs": [
    {
     "name": "stdout",
     "output_type": "stream",
     "text": [
      "shape of x:  (3, 4)\n",
      "object of class  <class 'numpy.ndarray'>\n",
      "elements of type in x:  float64\n",
      "no of elemts in x:  12\n"
     ]
    }
   ],
   "source": [
    "print(\"shape of x: \",x.shape)\n",
    "print(\"object of class \",type(x))\n",
    "print(\"elements of type in x: \",x.dtype)\n",
    "print(\"no of elemts in x: \",x.size)"
   ]
  },
  {
   "cell_type": "code",
   "execution_count": 12,
   "metadata": {},
   "outputs": [],
   "source": [
    "# we crate a matrix of 3*4 wuth ones\n",
    "x=np.ones((3,2))"
   ]
  },
  {
   "cell_type": "code",
   "execution_count": 13,
   "metadata": {},
   "outputs": [
    {
     "name": "stdout",
     "output_type": "stream",
     "text": [
      "\n",
      "x = \n",
      " [[1. 1.]\n",
      " [1. 1.]\n",
      " [1. 1.]]\n",
      "\n"
     ]
    }
   ],
   "source": [
    "# lets prints the ones matrix\n",
    "print()\n",
    "print(\"x = \\n\",x)\n",
    "print()\n"
   ]
  },
  {
   "cell_type": "code",
   "execution_count": 15,
   "metadata": {},
   "outputs": [
    {
     "name": "stdout",
     "output_type": "stream",
     "text": [
      "shape od matrix x:  (3, 2)\n",
      "x is object of  <class 'numpy.ndarray'>\n",
      "elements in matrix of ones is  float64\n",
      "no of elemnts in matrix x  6\n"
     ]
    }
   ],
   "source": [
    "print(\"shape od matrix x: \",x.shape)\n",
    "print(\"x is object of \",type(x))\n",
    "print(\"elements in matrix of ones is \",x.dtype)\n",
    "print(\"no of elemnts in matrix x \",x.size)"
   ]
  },
  {
   "cell_type": "code",
   "execution_count": 22,
   "metadata": {},
   "outputs": [],
   "source": [
    "# lets create matrix with desired number\n",
    "x=np.full((3,4),5)"
   ]
  },
  {
   "cell_type": "code",
   "execution_count": 23,
   "metadata": {},
   "outputs": [
    {
     "name": "stdout",
     "output_type": "stream",
     "text": [
      "\n",
      "x = \n",
      " [[5 5 5 5]\n",
      " [5 5 5 5]\n",
      " [5 5 5 5]]\n",
      "\n"
     ]
    }
   ],
   "source": [
    "# print the matrix\n",
    "print()\n",
    "print(\"x = \\n\",x)\n",
    "print()"
   ]
  },
  {
   "cell_type": "code",
   "execution_count": 24,
   "metadata": {},
   "outputs": [
    {
     "name": "stdout",
     "output_type": "stream",
     "text": [
      "the shape of matrix  (3, 4)\n",
      "the object of matrix x  <class 'numpy.ndarray'>\n",
      "the lements of type  int64\n",
      "the no of elements in matrix  12\n"
     ]
    }
   ],
   "source": [
    "print(\"the shape of matrix \",x.shape)\n",
    "print(\"the object of matrix x \",type(x))\n",
    "print(\"the lements of type \",x.dtype)\n",
    "print(\"the no of elements in matrix \",x.size)"
   ]
  },
  {
   "cell_type": "code",
   "execution_count": 30,
   "metadata": {},
   "outputs": [],
   "source": [
    "# we create a identity matrix\n",
    "x=np.eye(5)"
   ]
  },
  {
   "cell_type": "code",
   "execution_count": 31,
   "metadata": {},
   "outputs": [
    {
     "name": "stdout",
     "output_type": "stream",
     "text": [
      "\n",
      "x = \n",
      " [[1. 0. 0. 0. 0.]\n",
      " [0. 1. 0. 0. 0.]\n",
      " [0. 0. 1. 0. 0.]\n",
      " [0. 0. 0. 1. 0.]\n",
      " [0. 0. 0. 0. 1.]]\n",
      "\n"
     ]
    }
   ],
   "source": [
    "# lets print the identity matrix\n",
    "print()\n",
    "print(\"x = \\n\",x)\n",
    "print()"
   ]
  },
  {
   "cell_type": "code",
   "execution_count": 32,
   "metadata": {},
   "outputs": [
    {
     "name": "stdout",
     "output_type": "stream",
     "text": [
      "the shape of identity matrix  (5, 5)\n",
      "the matrix object of  <class 'numpy.ndarray'>\n",
      "the elements of matrix is float64\n",
      "the size of matrix 25\n"
     ]
    }
   ],
   "source": [
    "print(\"the shape of identity matrix \",x.shape)\n",
    "print(\"the matrix object of \",type(x))\n",
    "print(\"the elements of matrix is\",x.dtype)\n",
    "print(\"the size of matrix\",x.size)"
   ]
  },
  {
   "cell_type": "code",
   "execution_count": 34,
   "metadata": {},
   "outputs": [],
   "source": [
    "# create a diagonal matrix where its diagonal contains 10,20,30,40\n",
    "x=np.diag([10,20,30,40])"
   ]
  },
  {
   "cell_type": "code",
   "execution_count": 35,
   "metadata": {},
   "outputs": [
    {
     "name": "stdout",
     "output_type": "stream",
     "text": [
      "\n",
      "x = \n",
      " [[10  0  0  0]\n",
      " [ 0 20  0  0]\n",
      " [ 0  0 30  0]\n",
      " [ 0  0  0 40]]\n",
      "\n"
     ]
    }
   ],
   "source": [
    "# print the matrix\n",
    "print()\n",
    "print(\"x = \\n\",x)\n",
    "print()"
   ]
  },
  {
   "cell_type": "code",
   "execution_count": 37,
   "metadata": {},
   "outputs": [
    {
     "name": "stdout",
     "output_type": "stream",
     "text": [
      "the matrix of shape (4, 4)\n",
      "the matix of object of  <class 'numpy.ndarray'>\n",
      "the elements of matrix  int64\n",
      "the size of matrix is  16\n"
     ]
    }
   ],
   "source": [
    "print(\"the matrix of shape\",x.shape)\n",
    "print(\"the matix of object of \",type(x))\n",
    "print(\"the elements of matrix \",x.dtype)\n",
    "print(\"the size of matrix is \",x.size)"
   ]
  },
  {
   "cell_type": "code",
   "execution_count": 38,
   "metadata": {},
   "outputs": [],
   "source": [
    "#lets create a matrix with range 10\n",
    "x=np.arange(10)"
   ]
  },
  {
   "cell_type": "code",
   "execution_count": 39,
   "metadata": {},
   "outputs": [
    {
     "name": "stdout",
     "output_type": "stream",
     "text": [
      "\n",
      "x = \n",
      " [0 1 2 3 4 5 6 7 8 9]\n",
      "\n"
     ]
    }
   ],
   "source": [
    "# lets print the matix\n",
    "print()\n",
    "print(\"x = \\n\",x)\n",
    "print()"
   ]
  },
  {
   "cell_type": "code",
   "execution_count": 41,
   "metadata": {},
   "outputs": [
    {
     "name": "stdout",
     "output_type": "stream",
     "text": [
      "the dimension of x (10,)\n",
      "the object of  <class 'numpy.ndarray'>\n",
      "the eleemnt are type of  int64\n",
      "the size of matrix is  10\n"
     ]
    }
   ],
   "source": [
    "print(\"the dimension of x\",x.shape)\n",
    "print(\"the object of \",type(x))\n",
    "print(\"the eleemnt are type of \",x.dtype)\n",
    "print(\"the size of matrix is \",x.size)"
   ]
  },
  {
   "cell_type": "code",
   "execution_count": 43,
   "metadata": {},
   "outputs": [],
   "source": [
    "# create a matrix with in range of 4 and 10\n",
    "x=np.arange(4,10)"
   ]
  },
  {
   "cell_type": "code",
   "execution_count": 45,
   "metadata": {},
   "outputs": [
    {
     "name": "stdout",
     "output_type": "stream",
     "text": [
      "\n",
      "x - \n",
      " [4 5 6 7 8 9]\n",
      "\n"
     ]
    }
   ],
   "source": [
    "# print the arrat\n",
    "print()\n",
    "print(\"x - \\n\",x)\n",
    "print()"
   ]
  },
  {
   "cell_type": "code",
   "execution_count": 46,
   "metadata": {},
   "outputs": [
    {
     "name": "stdout",
     "output_type": "stream",
     "text": [
      "the shape od x  (6,)\n",
      "the object type of x  <class 'numpy.ndarray'>\n",
      "the elemnents of type  int64\n",
      "no of elements in x  6\n"
     ]
    }
   ],
   "source": [
    "print(\"the shape od x \",x.shape)\n",
    "print(\"the object type of x \",type(x))\n",
    "print(\"the elemnents of type \",x.dtype)\n",
    "print(\"no of elements in x \",x.size)\n",
    "\n"
   ]
  },
  {
   "cell_type": "code",
   "execution_count": 49,
   "metadata": {},
   "outputs": [],
   "source": [
    "x=np.arange(1,14,3)"
   ]
  },
  {
   "cell_type": "code",
   "execution_count": 50,
   "metadata": {},
   "outputs": [
    {
     "name": "stdout",
     "output_type": "stream",
     "text": [
      "\n",
      "x = \n",
      " [ 1  4  7 10 13]\n",
      "\n"
     ]
    }
   ],
   "source": [
    "# print the matrix array\n",
    "print()\n",
    "print(\"x = \\n\",x)\n",
    "print()"
   ]
  },
  {
   "cell_type": "code",
   "execution_count": 52,
   "metadata": {},
   "outputs": [
    {
     "name": "stdout",
     "output_type": "stream",
     "text": [
      "the shape od x  (5,)\n",
      "the object of x  <class 'numpy.ndarray'>\n",
      "the elements of type  int64\n",
      "the size of x is  5\n"
     ]
    }
   ],
   "source": [
    "print(\"the shape od x \",x.shape)\n",
    "print(\"the object of x \",type(x))\n",
    "print(\"the elements of type \",x.dtype)\n",
    "print(\"the size of x is \",x.size)"
   ]
  },
  {
   "cell_type": "code",
   "execution_count": 54,
   "metadata": {},
   "outputs": [],
   "source": [
    "# We create a rank 1 ndarray that has 10 integers evenly spaced between 0 and 25.\n",
    "x=np.linspace(0,25,10)"
   ]
  },
  {
   "cell_type": "code",
   "execution_count": 55,
   "metadata": {},
   "outputs": [
    {
     "name": "stdout",
     "output_type": "stream",
     "text": [
      "\n",
      "x = \n",
      " [ 0.          2.77777778  5.55555556  8.33333333 11.11111111 13.88888889\n",
      " 16.66666667 19.44444444 22.22222222 25.        ]\n",
      "\n"
     ]
    }
   ],
   "source": [
    "# lets print matrix\n",
    "print()\n",
    "print(\"x = \\n\",x)\n",
    "print()"
   ]
  },
  {
   "cell_type": "code",
   "execution_count": 56,
   "metadata": {},
   "outputs": [
    {
     "name": "stdout",
     "output_type": "stream",
     "text": [
      "the shape od x  (10,)\n",
      "the object of x  <class 'numpy.ndarray'>\n",
      "the elements of type  float64\n",
      "the size of x is  10\n"
     ]
    }
   ],
   "source": [
    "print(\"the shape od x \",x.shape)\n",
    "print(\"the object of x \",type(x))\n",
    "print(\"the elements of type \",x.dtype)\n",
    "print(\"the size of x is \",x.size)"
   ]
  },
  {
   "cell_type": "code",
   "execution_count": 58,
   "metadata": {},
   "outputs": [],
   "source": [
    "# We create a rank 1 ndarray that has 10 integers evenly spaced between 0 and 25. with exclued endpoints\n",
    "x=np.linspace(1,25,10,endpoint=False)"
   ]
  },
  {
   "cell_type": "code",
   "execution_count": 59,
   "metadata": {},
   "outputs": [
    {
     "name": "stdout",
     "output_type": "stream",
     "text": [
      "\n",
      "x = \n",
      " [ 1.   3.4  5.8  8.2 10.6 13.  15.4 17.8 20.2 22.6]\n",
      "\n"
     ]
    }
   ],
   "source": [
    "# lets print matrix\n",
    "print()\n",
    "print(\"x = \\n\",x)\n",
    "print()"
   ]
  },
  {
   "cell_type": "code",
   "execution_count": 60,
   "metadata": {},
   "outputs": [
    {
     "name": "stdout",
     "output_type": "stream",
     "text": [
      "the shape od x  (10,)\n",
      "the object of x  <class 'numpy.ndarray'>\n",
      "the elements of type  float64\n",
      "the size of x is  10\n"
     ]
    }
   ],
   "source": [
    "print(\"the shape od x \",x.shape)\n",
    "print(\"the object of x \",type(x))\n",
    "print(\"the elements of type \",x.dtype)\n",
    "print(\"the size of x is \",x.size)"
   ]
  },
  {
   "cell_type": "code",
   "execution_count": 63,
   "metadata": {},
   "outputs": [
    {
     "name": "stdout",
     "output_type": "stream",
     "text": [
      "\n",
      "x = \n",
      " [ 0  1  2  3  4  5  6  7  8  9 10 11 12 13 14 15 16 17 18 19]\n",
      "\n",
      "\n",
      "reshaped x = \n",
      " [[ 0  1  2  3  4]\n",
      " [ 5  6  7  8  9]\n",
      " [10 11 12 13 14]\n",
      " [15 16 17 18 19]]\n",
      "\n",
      "the shape od x  (4, 5)\n",
      "the object of x  <class 'numpy.ndarray'>\n",
      "the elements of type  int64\n",
      "the size of x is  20\n"
     ]
    }
   ],
   "source": [
    "x=np.arange(20)\n",
    "\n",
    "# lets print matrix\n",
    "print()\n",
    "print(\"x = \\n\",x)\n",
    "print()\n",
    "\n",
    "# reshape\n",
    "x=np.reshape(x,(4,5))\n",
    "\n",
    "# lets print matrix\n",
    "print()\n",
    "print(\"reshaped x = \\n\",x)\n",
    "print()\n",
    "\n",
    "print(\"the shape od x \",x.shape)\n",
    "print(\"the object of x \",type(x))\n",
    "print(\"the elements of type \",x.dtype)\n",
    "print(\"the size of x is \",x.size)"
   ]
  },
  {
   "cell_type": "code",
   "execution_count": 64,
   "metadata": {},
   "outputs": [
    {
     "name": "stdout",
     "output_type": "stream",
     "text": [
      "\n",
      "reshaped x = \n",
      " [[ 0  1  2  3  4]\n",
      " [ 5  6  7  8  9]\n",
      " [10 11 12 13 14]\n",
      " [15 16 17 18 19]]\n",
      "\n",
      "the shape od x  (4, 5)\n",
      "the object of x  <class 'numpy.ndarray'>\n",
      "the elements of type  int64\n",
      "the size of x is  20\n"
     ]
    }
   ],
   "source": [
    "x=np.arange(20).reshape(4,5)\n",
    "\n",
    "# lets print matrix\n",
    "print()\n",
    "print(\"reshaped x = \\n\",x)\n",
    "print()\n",
    "\n",
    "print(\"the shape od x \",x.shape)\n",
    "print(\"the object of x \",type(x))\n",
    "print(\"the elements of type \",x.dtype)\n",
    "print(\"the size of x is \",x.size)"
   ]
  },
  {
   "cell_type": "code",
   "execution_count": 65,
   "metadata": {},
   "outputs": [
    {
     "name": "stdout",
     "output_type": "stream",
     "text": [
      "\n",
      "reshaped x = \n",
      " [[ 1.   5.9]\n",
      " [10.8 15.7]\n",
      " [20.6 25.5]\n",
      " [30.4 35.3]\n",
      " [40.2 45.1]]\n",
      "\n"
     ]
    }
   ],
   "source": [
    "x=np.linspace(1,50,10,endpoint=False).reshape(5,2)\n",
    "\n",
    "# lets print matrix\n",
    "print()\n",
    "print(\"reshaped x = \\n\",x)\n",
    "print()"
   ]
  },
  {
   "cell_type": "code",
   "execution_count": 67,
   "metadata": {},
   "outputs": [
    {
     "name": "stdout",
     "output_type": "stream",
     "text": [
      "X has dimensions: (5, 2)\n",
      "X is an object of type: <class 'numpy.ndarray'>\n",
      "The elements in X are of type: float64\n"
     ]
    }
   ],
   "source": [
    "# We print information about X\n",
    "print('X has dimensions:', x.shape)\n",
    "print('X is an object of type:', type(x))\n",
    "print('The elements in X are of type:', x.dtype)"
   ]
  },
  {
   "cell_type": "code",
   "execution_count": 70,
   "metadata": {},
   "outputs": [],
   "source": [
    "x=np.random.random((3,3))"
   ]
  },
  {
   "cell_type": "code",
   "execution_count": 72,
   "metadata": {},
   "outputs": [
    {
     "name": "stdout",
     "output_type": "stream",
     "text": [
      "\n",
      "x = \n",
      " [[0.85832226 0.18720737 0.00579439]\n",
      " [0.29274508 0.08223493 0.22126709]\n",
      " [0.16297884 0.15303392 0.72887656]]\n",
      "\n",
      "X has dimensions: (3, 3)\n",
      "X is an object of type: <class 'numpy.ndarray'>\n",
      "The elements in X are of type: float64\n"
     ]
    }
   ],
   "source": [
    "\n",
    "# lets print matrix\n",
    "print()\n",
    "print(\"x = \\n\",x)\n",
    "print()\n",
    "\n",
    "# We print information about X\n",
    "print('X has dimensions:', x.shape)\n",
    "print('X is an object of type:', type(x))\n",
    "print('The elements in X are of type:', x.dtype)"
   ]
  },
  {
   "cell_type": "code",
   "execution_count": 78,
   "metadata": {},
   "outputs": [],
   "source": [
    "x=np.random.randint(4,15,size=(3,2))"
   ]
  },
  {
   "cell_type": "code",
   "execution_count": 79,
   "metadata": {},
   "outputs": [
    {
     "name": "stdout",
     "output_type": "stream",
     "text": [
      "\n",
      "x = \n",
      " [[ 5  9]\n",
      " [ 9 13]\n",
      " [10 13]]\n",
      "\n",
      "X has dimensions: (3, 2)\n",
      "X is an object of type: <class 'numpy.ndarray'>\n",
      "The elements in X are of type: int64\n"
     ]
    }
   ],
   "source": [
    "# lets print matrix\n",
    "print()\n",
    "print(\"x = \\n\",x)\n",
    "print()\n",
    "\n",
    "# We print information about X\n",
    "print('X has dimensions:', x.shape)\n",
    "print('X is an object of type:', type(x))\n",
    "print('The elements in X are of type:', x.dtype)"
   ]
  },
  {
   "cell_type": "code",
   "execution_count": 80,
   "metadata": {},
   "outputs": [],
   "source": [
    "x=np.random.normal(0,0.1,size=(1000,1000))"
   ]
  },
  {
   "cell_type": "code",
   "execution_count": 81,
   "metadata": {},
   "outputs": [
    {
     "name": "stdout",
     "output_type": "stream",
     "text": [
      "\n",
      "x = \n",
      " [[-0.04489157 -0.01639483 -0.08178703 ...  0.06707917  0.14314588\n",
      "   0.14831297]\n",
      " [ 0.08111334 -0.1157932   0.27309628 ... -0.08960292  0.00495384\n",
      "   0.00843463]\n",
      " [-0.07393267 -0.02213371 -0.01134561 ... -0.23463924  0.007502\n",
      "   0.04481733]\n",
      " ...\n",
      " [-0.00482427 -0.32182729 -0.04622694 ... -0.1491738  -0.06103225\n",
      "  -0.0590376 ]\n",
      " [ 0.10041439  0.06725322  0.15431799 ... -0.12870653  0.14154605\n",
      "  -0.12286401]\n",
      " [-0.09715113  0.17692776  0.25071539 ... -0.15200925 -0.20907853\n",
      "   0.01678853]]\n",
      "\n"
     ]
    }
   ],
   "source": [
    "print()\n",
    "print(\"x = \\n\",x)\n",
    "print()"
   ]
  },
  {
   "cell_type": "code",
   "execution_count": 82,
   "metadata": {},
   "outputs": [
    {
     "name": "stdout",
     "output_type": "stream",
     "text": [
      "X has dimensions: (1000, 1000)\n",
      "X is an object of type: <class 'numpy.ndarray'>\n",
      "The elements in X are of type: float64\n"
     ]
    }
   ],
   "source": [
    "# We print information about X\n",
    "print('X has dimensions:', x.shape)\n",
    "print('X is an object of type:', type(x))\n",
    "print('The elements in X are of type:', x.dtype)"
   ]
  },
  {
   "cell_type": "code",
   "execution_count": 83,
   "metadata": {},
   "outputs": [
    {
     "name": "stdout",
     "output_type": "stream",
     "text": [
      "mean=  -6.99318685058916e-05\n"
     ]
    }
   ],
   "source": [
    "print(\"mean= \",x.mean())"
   ]
  },
  {
   "cell_type": "code",
   "execution_count": 84,
   "metadata": {},
   "outputs": [
    {
     "name": "stdout",
     "output_type": "stream",
     "text": [
      "max  0.4759637485635466\n",
      "min  -0.48696669945483184\n"
     ]
    }
   ],
   "source": [
    "print(\"max \",x.max())\n",
    "print(\"min \",x.min())"
   ]
  },
  {
   "cell_type": "code",
   "execution_count": null,
   "metadata": {},
   "outputs": [],
   "source": [
    "print(\"positive\",x>0)\n",
    "print(\"negative\",x<)"
   ]
  }
 ],
 "metadata": {
  "kernelspec": {
   "display_name": "Python 3",
   "language": "python",
   "name": "python3"
  },
  "language_info": {
   "codemirror_mode": {
    "name": "ipython",
    "version": 3
   },
   "file_extension": ".py",
   "mimetype": "text/x-python",
   "name": "python",
   "nbconvert_exporter": "python",
   "pygments_lexer": "ipython3",
   "version": "3.7.9"
  }
 },
 "nbformat": 4,
 "nbformat_minor": 4
}

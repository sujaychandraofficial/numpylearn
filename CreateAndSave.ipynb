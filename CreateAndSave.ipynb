{
 "cells": [
  {
   "cell_type": "code",
   "execution_count": 4,
   "metadata": {},
   "outputs": [],
   "source": [
    "# We import NumPy into Python\n",
    "import numpy as np"
   ]
  },
  {
   "cell_type": "code",
   "execution_count": 5,
   "metadata": {},
   "outputs": [],
   "source": [
    "# We create a 1D ndarray that contains only integers\n",
    "x=np.array([1,2,3,4,5])"
   ]
  },
  {
   "cell_type": "code",
   "execution_count": 6,
   "metadata": {},
   "outputs": [
    {
     "name": "stdout",
     "output_type": "stream",
     "text": [
      "x = [1 2 3 4 5]\n"
     ]
    }
   ],
   "source": [
    "# Let's print the ndarray we just created using the print() command\n",
    "print()\n",
    "print(\"x =\",x)\n",
    "print()"
   ]
  },
  {
   "cell_type": "code",
   "execution_count": 11,
   "metadata": {},
   "outputs": [
    {
     "name": "stdout",
     "output_type": "stream",
     "text": [
      "x has n dimensions: (5,)\n",
      "x is a object type of: <class 'numpy.ndarray'>\n",
      "the elements of x are type: int64\n"
     ]
    }
   ],
   "source": [
    "# We print information about x\n",
    "print(\"x has n dimensions:\",x.shape)\n",
    "print(\"x is a object type of:\",type(x))\n",
    "print(\"the elements of x are type:\",x.dtype)"
   ]
  },
  {
   "cell_type": "code",
   "execution_count": 14,
   "metadata": {},
   "outputs": [],
   "source": [
    "# We create a 1D ndarray that contains only string\n",
    "x=np.array([\"sujay\",\"chandra\",\"GAN\",\"CNN\"])"
   ]
  },
  {
   "cell_type": "code",
   "execution_count": 15,
   "metadata": {},
   "outputs": [
    {
     "name": "stdout",
     "output_type": "stream",
     "text": [
      "\n",
      "x =  ['sujay' 'chandra' 'GAN' 'CNN']\n",
      "\n"
     ]
    }
   ],
   "source": [
    "# Let's print the ndarray we just created using the print() command\n",
    "print()\n",
    "print(\"x = \",x)\n",
    "print()"
   ]
  },
  {
   "cell_type": "code",
   "execution_count": 16,
   "metadata": {},
   "outputs": [
    {
     "name": "stdout",
     "output_type": "stream",
     "text": [
      "x has ndimensions: (4,)\n",
      "x is a object type of: <class 'numpy.ndarray'>\n",
      "elements of x are type: <U7\n"
     ]
    }
   ],
   "source": [
    "# We print information about x\n",
    "print(\"x has ndimensions:\",x.shape)\n",
    "print(\"x is a object type of:\",type(x))\n",
    "print(\"elements of x are type:\",x.dtype)"
   ]
  },
  {
   "cell_type": "code",
   "execution_count": 26,
   "metadata": {},
   "outputs": [],
   "source": [
    "#we create a 1d arrray that contains string and integers\n",
    "x=np.array([1,2,\"sujay\",\"chandra\"])"
   ]
  },
  {
   "cell_type": "code",
   "execution_count": 27,
   "metadata": {},
   "outputs": [
    {
     "name": "stdout",
     "output_type": "stream",
     "text": [
      "\n",
      "['1' '2' 'sujay' 'chandra']\n",
      "\n"
     ]
    }
   ],
   "source": [
    "#lets print the ndarray we just created using print command\n",
    "print()\n",
    "print(x)\n",
    "print()"
   ]
  },
  {
   "cell_type": "code",
   "execution_count": 29,
   "metadata": {},
   "outputs": [
    {
     "name": "stdout",
     "output_type": "stream",
     "text": [
      "x has the ndimesnions: (4,)\n",
      "x is the object type of: <class 'numpy.ndarray'>\n",
      "elements of the x are type of: <U21\n"
     ]
    }
   ],
   "source": [
    "#we print the information of x\n",
    "print(\"x has the ndimesnions:\",x.shape)\n",
    "print(\"x is the object type of:\",type(x))\n",
    "print(\"elements of the x are type of:\",x.dtype)"
   ]
  },
  {
   "cell_type": "code",
   "execution_count": 30,
   "metadata": {},
   "outputs": [],
   "source": [
    "#we create a rank2(2d) array thar contains only integers\n",
    "y=np.array([[1,2,3],[4,5,6],[7,8,9],[10,11,12]])"
   ]
  },
  {
   "cell_type": "code",
   "execution_count": 32,
   "metadata": {},
   "outputs": [
    {
     "name": "stdout",
     "output_type": "stream",
     "text": [
      "\n",
      "y = \n",
      " [[ 1  2  3]\n",
      " [ 4  5  6]\n",
      " [ 7  8  9]\n",
      " [10 11 12]]\n",
      "\n"
     ]
    }
   ],
   "source": [
    "#lets print the ndarray we just created using the print command\n",
    "print()\n",
    "print(\"y = \\n\",y)\n",
    "print()"
   ]
  },
  {
   "cell_type": "code",
   "execution_count": 35,
   "metadata": {},
   "outputs": [
    {
     "name": "stdout",
     "output_type": "stream",
     "text": [
      "the ndimensions of y array is: (4, 3)\n",
      "y is object class of: <class 'numpy.ndarray'>\n",
      "elements in are type of: int64\n",
      "number of elements in y are: 12\n"
     ]
    }
   ],
   "source": [
    "#we print information of y\n",
    "print(\"the ndimensions of y array is:\",y.shape)\n",
    "print(\"y is object class of:\",type(y))\n",
    "print(\"elements in are type of:\",y.dtype)\n",
    "print(\"number of elements in y are:\",y.size)"
   ]
  },
  {
   "cell_type": "code",
   "execution_count": 36,
   "metadata": {},
   "outputs": [],
   "source": [
    "# We create a rank 1 ndarray that contains integers\n",
    "x = np.array([1,2,3])\n",
    "\n",
    "# We create a rank 1 ndarray that contains floats\n",
    "y = np.array([1.0,2.0,3.0])\n",
    "\n",
    "# We create a rank 1 ndarray that contains integers and floats\n",
    "z = np.array([1, 2.5, 4])\n"
   ]
  },
  {
   "cell_type": "code",
   "execution_count": 37,
   "metadata": {},
   "outputs": [
    {
     "name": "stdout",
     "output_type": "stream",
     "text": [
      "the elements x are type of:  int64\n",
      "the elements y are type of:  float64\n",
      "the elements z are type of:  float64\n"
     ]
    }
   ],
   "source": [
    "print(\"the elements x are type of: \",x.dtype)\n",
    "print(\"the elements y are type of: \",y.dtype)\n",
    "print(\"the elements z are type of: \",z.dtype)\n"
   ]
  },
  {
   "cell_type": "code",
   "execution_count": 38,
   "metadata": {},
   "outputs": [],
   "source": [
    "# We create a rank 1 ndarray of floats but set the dtype to int64\n",
    "x=np.array([10.0,20,30.0,40],dtype=np.int64)"
   ]
  },
  {
   "cell_type": "code",
   "execution_count": 39,
   "metadata": {},
   "outputs": [
    {
     "name": "stdout",
     "output_type": "stream",
     "text": [
      "\n",
      "x : [10 20 30 40]\n",
      "\n"
     ]
    }
   ],
   "source": [
    "#lets print the ndarray we just created using the print command\n",
    "print()\n",
    "print(\"x :\",x)\n",
    "print()"
   ]
  },
  {
   "cell_type": "code",
   "execution_count": 40,
   "metadata": {},
   "outputs": [
    {
     "name": "stdout",
     "output_type": "stream",
     "text": [
      "the elements in x are  int64\n"
     ]
    }
   ],
   "source": [
    "# the elements in the xarray are type of\n",
    "print(\"the elements in x are \",x.dtype)"
   ]
  },
  {
   "cell_type": "code",
   "execution_count": 42,
   "metadata": {},
   "outputs": [],
   "source": [
    "#create a x array \n",
    "x=np.array([1,2,3,4,5])"
   ]
  },
  {
   "cell_type": "code",
   "execution_count": 43,
   "metadata": {},
   "outputs": [],
   "source": [
    "# save the array in file in current directory\n",
    "np.save(\"my_array\",x)"
   ]
  },
  {
   "cell_type": "code",
   "execution_count": 47,
   "metadata": {},
   "outputs": [
    {
     "name": "stdout",
     "output_type": "stream",
     "text": [
      "\n",
      "[1 2 3 4 5]\n",
      "\n",
      "the elemnts are type of  int64\n",
      "the object of class of y is <class 'numpy.ndarray'>\n"
     ]
    }
   ],
   "source": [
    "# now get the array from saved file with extension\n",
    "y=np.load(\"my_array.npy\")\n",
    "\n",
    "print()\n",
    "print(y)\n",
    "print()\n",
    "\n",
    "# print the type of elements\n",
    "print(\"the elemnts are type of \",y.dtype)\n",
    "print(\"the object of class of y is\", type(y))"
   ]
  },
  {
   "cell_type": "code",
   "execution_count": null,
   "metadata": {},
   "outputs": [],
   "source": []
  }
 ],
 "metadata": {
  "kernelspec": {
   "display_name": "Python 3",
   "language": "python",
   "name": "python3"
  },
  "language_info": {
   "codemirror_mode": {
    "name": "ipython",
    "version": 3
   },
   "file_extension": ".py",
   "mimetype": "text/x-python",
   "name": "python",
   "nbconvert_exporter": "python",
   "pygments_lexer": "ipython3",
   "version": "3.7.9"
  }
 },
 "nbformat": 4,
 "nbformat_minor": 4
}

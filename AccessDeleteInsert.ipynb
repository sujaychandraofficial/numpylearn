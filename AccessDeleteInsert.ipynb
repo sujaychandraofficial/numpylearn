{
 "cells": [
  {
   "cell_type": "code",
   "execution_count": 1,
   "metadata": {},
   "outputs": [],
   "source": [
    "import numpy as np"
   ]
  },
  {
   "cell_type": "code",
   "execution_count": 4,
   "metadata": {},
   "outputs": [
    {
     "name": "stdout",
     "output_type": "stream",
     "text": [
      "\n",
      "x = \n",
      " [1 2 3 4 5]\n",
      "\n",
      "first element of the array :  1\n",
      "second element of the array:  2\n",
      "last element of the array:  5\n",
      "\n",
      "first element of the array :  1\n",
      "second element of the array : 2\n",
      "last element of the array : 5\n"
     ]
    }
   ],
   "source": [
    "x=np.array([1,2,3,4,5])\n",
    "\n",
    "print()\n",
    "print(\"x = \\n\",x)\n",
    "print()\n",
    "\n",
    "print(\"first element of the array : \",x[0])\n",
    "print(\"second element of the array: \",x[1])\n",
    "print(\"last element of the array: \",x[4])\n",
    "print()\n",
    "print(\"first element of the array : \",x[-5])\n",
    "print(\"second element of the array :\",x[-4])\n",
    "print(\"last element of the array :\",x[-1])"
   ]
  },
  {
   "cell_type": "code",
   "execution_count": 7,
   "metadata": {},
   "outputs": [
    {
     "name": "stdout",
     "output_type": "stream",
     "text": [
      "\n",
      "Original x = \n",
      " [1 2 3 4 5]\n",
      "\n",
      "\n",
      "Modified x = \n",
      " [ 1  2  3 10  5]\n",
      "\n"
     ]
    }
   ],
   "source": [
    "x=np.array([1,2,3,4,5])\n",
    "\n",
    "print()\n",
    "print(\"Original x = \\n\",x)\n",
    "print()\n",
    "\n",
    "\n",
    "x[3]=10\n",
    "\n",
    "print()\n",
    "print(\"Modified x = \\n\",x)\n",
    "print()\n"
   ]
  },
  {
   "cell_type": "code",
   "execution_count": 10,
   "metadata": {},
   "outputs": [
    {
     "name": "stdout",
     "output_type": "stream",
     "text": [
      "\n",
      "x = \n",
      " [[ 1  2  3]\n",
      " [ 4  5  6]\n",
      " [ 7  8  9]\n",
      " [10 11 12]]\n",
      "\n",
      "first element of the array 1\n",
      "second element of the array 2\n",
      "last element of array 12\n"
     ]
    }
   ],
   "source": [
    "x=np.array([[1,2,3],[4,5,6],[7,8,9],[10,11,12]])\n",
    "\n",
    "print()\n",
    "print(\"x = \\n\",x)\n",
    "print()\n",
    "\n",
    "print(\"first element of the array\",x[0][0])\n",
    "print(\"second element of the array\",x[0][1])\n",
    "print(\"last element of array\",x[3][2])"
   ]
  },
  {
   "cell_type": "code",
   "execution_count": 11,
   "metadata": {},
   "outputs": [
    {
     "name": "stdout",
     "output_type": "stream",
     "text": [
      "\n",
      "Original x = \n",
      " [[1 2 3]\n",
      " [4 5 6]\n",
      " [7 8 9]]\n",
      "\n",
      "\n",
      "Modified x= \n",
      " [[20  2  3]\n",
      " [ 4  5  6]\n",
      " [ 7  8  9]]\n",
      "\n"
     ]
    }
   ],
   "source": [
    "# modift rank2 array\n",
    "x=np.array([[1,2,3],[4,5,6],[7,8,9]])\n",
    "\n",
    "print()\n",
    "print(\"Original x = \\n\",x)\n",
    "print()\n",
    "\n",
    "x[0][0]=20\n",
    "\n",
    "print()\n",
    "print(\"Modified x= \\n\",x)\n",
    "print()"
   ]
  },
  {
   "cell_type": "code",
   "execution_count": 16,
   "metadata": {},
   "outputs": [
    {
     "name": "stdout",
     "output_type": "stream",
     "text": [
      "\n",
      "Original x=\n",
      " [1 2 3 4 5]\n",
      "\n",
      "\n",
      "Modified x=\n",
      " [2 3 4]\n",
      "\n",
      "\n",
      "Original y=\n",
      " [[1 2 3]\n",
      " [4 5 6]\n",
      " [7 8 9]]\n",
      "\n",
      "\n",
      "Modified w=\n",
      " [[4 5 6]\n",
      " [7 8 9]]\n",
      "\n",
      "\n",
      "Original y=\n",
      " [[1 2 3]\n",
      " [4 5 6]\n",
      " [7 8 9]]\n",
      "\n",
      "\n",
      "Modified v=\n",
      " [[2]\n",
      " [5]\n",
      " [8]]\n",
      "\n"
     ]
    }
   ],
   "source": [
    "x=np.array([1,2,3,4,5])\n",
    "y=np.array([[1,2,3],[4,5,6],[7,8,9]])\n",
    "\n",
    "print()\n",
    "print(\"Original x=\\n\",x)\n",
    "print()\n",
    "\n",
    "x=np.delete(x,[0,4])\n",
    "\n",
    "print()\n",
    "print(\"Modified x=\\n\",x)\n",
    "print()\n",
    "\n",
    "print()\n",
    "print(\"Original y=\\n\",y)\n",
    "print()\n",
    "\n",
    "\n",
    "w=np.delete(y,0,axis=0)\n",
    "\n",
    "print()\n",
    "print(\"Modified w=\\n\",w)\n",
    "print()\n",
    "\n",
    "print()\n",
    "print(\"Original y=\\n\",y)\n",
    "print()\n",
    "\n",
    "v=np.delete(y,[0,2],axis=1)\n",
    "\n",
    "print()\n",
    "print(\"Modified v=\\n\",v)\n",
    "print()\n"
   ]
  },
  {
   "cell_type": "code",
   "execution_count": 38,
   "metadata": {},
   "outputs": [
    {
     "name": "stdout",
     "output_type": "stream",
     "text": [
      "\n",
      "Original x = \n",
      " [1 2 3 4 5]\n",
      "\n",
      "\n",
      "Modified x = \n",
      " [1 2 3 4 5 6]\n",
      "\n",
      "\n",
      "Modified x = \n",
      " [1 2 3 4 5 6 7 8]\n",
      "\n",
      "\n",
      "Original y = \n",
      " [[1 2 3]\n",
      " [4 5 6]\n",
      " [7 8 9]]\n",
      "\n",
      "\n",
      "Modified w = \n",
      " [[ 1  2  3]\n",
      " [ 4  5  6]\n",
      " [ 7  8  9]\n",
      " [10 11 12]]\n",
      "\n",
      "\n",
      "Modified q = \n",
      " [1 2 3 4 5 6 7 8 9 7 8]\n",
      "\n"
     ]
    }
   ],
   "source": [
    "x=np.array([1,2,3,4,5])\n",
    "\n",
    "y=np.array([[1,2,3],[4,5,6],[7,8,9]])\n",
    "\n",
    "print()\n",
    "print(\"Original x = \\n\",x)\n",
    "print()\n",
    "\n",
    "x = np.append(x,6)\n",
    "\n",
    "print()\n",
    "print(\"Modified x = \\n\",x)\n",
    "print()\n",
    "\n",
    "x=np.append(x,[7,8])\n",
    "\n",
    "print()\n",
    "print(\"Modified x = \\n\",x)\n",
    "print()\n",
    "\n",
    "\n",
    "print()\n",
    "print(\"Original y = \\n\",y)\n",
    "print()\n",
    "\n",
    "\n",
    "w=np.append(y,[[10,11,12]],axis=0)\n",
    "\n",
    "print()\n",
    "print(\"Modified w = \\n\",w)\n",
    "print()\n",
    "\n",
    "q=np.append(y,[[7],[8]],axis=1)\n",
    "\n",
    "\n",
    "print()\n",
    "print(\"Modified q = \\n\",q)\n",
    "print()"
   ]
  },
  {
   "cell_type": "code",
   "execution_count": 52,
   "metadata": {},
   "outputs": [
    {
     "name": "stdout",
     "output_type": "stream",
     "text": [
      "\n",
      "x = \n",
      " [1 2 5 6 7]\n",
      "\n",
      "\n",
      "modified x = \n",
      " [1 2 3 4 5 6 7]\n",
      "\n",
      "\n",
      "y = \n",
      " [[1 2 3]\n",
      " [4 5 6]\n",
      " [7 8 9]]\n",
      "\n",
      "\n",
      "modified w = \n",
      " [[1 2 3]\n",
      " [9 8 7]\n",
      " [4 5 6]\n",
      " [7 8 9]]\n",
      "\n",
      "\n",
      "y = \n",
      " [[1 2 3]\n",
      " [4 5 6]\n",
      " [7 8 9]]\n",
      "\n",
      "\n",
      "modified v = \n",
      " [[1 2 3 5]\n",
      " [4 5 6 5]\n",
      " [7 8 9 5]]\n",
      "\n"
     ]
    }
   ],
   "source": [
    "x=np.array([1,2,5,6,7])\n",
    "y=np.array([[1,2,3],[4,5,6],[7,8,9]])\n",
    "\n",
    "print()\n",
    "print(\"x = \\n\",x)\n",
    "print()\n",
    "\n",
    "x=np.insert(x,2,[3,4])\n",
    "\n",
    "print()\n",
    "print(\"modified x = \\n\",x)\n",
    "print()\n",
    "\n",
    "print()\n",
    "print(\"y = \\n\",y)\n",
    "print()\n",
    "\n",
    "w=np.insert(y,1,[9,8,7],axis=0)\n",
    "\n",
    "print()\n",
    "print(\"modified w = \\n\",w)\n",
    "print()\n",
    "\n",
    "print()\n",
    "print(\"y = \\n\",y)\n",
    "print()\n",
    "\n",
    "v=np.insert(y,3,5,axis=1)\n",
    "\n",
    "print()\n",
    "print(\"modified v = \\n\",v)\n",
    "print()\n"
   ]
  },
  {
   "cell_type": "code",
   "execution_count": 57,
   "metadata": {},
   "outputs": [
    {
     "name": "stdout",
     "output_type": "stream",
     "text": [
      "\n",
      "x = \n",
      " [1 2]\n",
      "\n",
      "\n",
      "y = \n",
      " [[3 4]\n",
      " [5 6]]\n",
      "\n",
      "\n",
      "w = \n",
      " [[1 2]\n",
      " [3 4]\n",
      " [5 6]]\n",
      "\n",
      "\n",
      "v = \n",
      " [[3 4 1]\n",
      " [5 6 2]]\n",
      "\n"
     ]
    }
   ],
   "source": [
    "x=np.array([1,2])\n",
    "y=np.array([[3,4],[5,6]])\n",
    "\n",
    "print()\n",
    "print(\"x = \\n\",x)\n",
    "print()\n",
    "\n",
    "print()\n",
    "print(\"y = \\n\",y)\n",
    "print()\n",
    "\n",
    "w=np.vstack((x,y))\n",
    "\n",
    "print()\n",
    "print(\"w = \\n\",w)\n",
    "print()\n",
    "\n",
    "v=np.hstack((y,x.reshape(2,1)))\n",
    "\n",
    "\n",
    "print()\n",
    "print(\"v = \\n\",v)\n",
    "print()"
   ]
  },
  {
   "cell_type": "code",
   "execution_count": null,
   "metadata": {},
   "outputs": [],
   "source": []
  }
 ],
 "metadata": {
  "kernelspec": {
   "display_name": "Python 3",
   "language": "python",
   "name": "python3"
  },
  "language_info": {
   "codemirror_mode": {
    "name": "ipython",
    "version": 3
   },
   "file_extension": ".py",
   "mimetype": "text/x-python",
   "name": "python",
   "nbconvert_exporter": "python",
   "pygments_lexer": "ipython3",
   "version": "3.7.9"
  }
 },
 "nbformat": 4,
 "nbformat_minor": 4
}

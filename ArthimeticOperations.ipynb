{
 "cells": [
  {
   "cell_type": "code",
   "execution_count": 1,
   "metadata": {},
   "outputs": [],
   "source": [
    "import numpy as np"
   ]
  },
  {
   "cell_type": "code",
   "execution_count": 16,
   "metadata": {},
   "outputs": [
    {
     "name": "stdout",
     "output_type": "stream",
     "text": [
      "\n",
      "x = \n",
      " [1 2 3 4 5]\n",
      "\n",
      "\n",
      "y = \n",
      " [ 6  8  7  9 10]\n",
      "\n",
      "x+y =  [ 7 10 10 13 15]\n",
      "np.add(x,y)=  [ 7 10 10 13 15]\n",
      "\n",
      "x-y=  [-5 -6 -4 -5 -5]\n",
      "np.subtract(x,y)=  [-5 -6 -4 -5 -5]\n",
      "\n",
      "x*y= [ 6 16 21 36 50]\n",
      "np.multiply= [ 6 16 21 36 50]\n",
      "\n",
      "x/y= [0.16666667 0.25       0.42857143 0.44444444 0.5       ]\n",
      "np.divide(x,y)= [0.16666667 0.25       0.42857143 0.44444444 0.5       ]\n"
     ]
    }
   ],
   "source": [
    "x=np.array([1,2,3,4,5])\n",
    "y=np.array([6,8,7,9,10])\n",
    "\n",
    "print()\n",
    "print(\"x = \\n\",x)\n",
    "print()\n",
    "\n",
    "print()\n",
    "print(\"y = \\n\",y)\n",
    "print()\n",
    "\n",
    "print(\"x+y = \",x+y)\n",
    "print(\"np.add(x,y)= \",np.add(x,y))\n",
    "print()\n",
    "print(\"x-y= \",x-y)\n",
    "print(\"np.subtract(x,y)= \",np.subtract(x,y))\n",
    "print()\n",
    "print(\"x*y=\",x*y)\n",
    "print(\"np.multiply=\",np.multiply(x,y))\n",
    "print()\n",
    "print(\"x/y=\",x/y)\n",
    "print(\"np.divide(x,y)=\",np.divide(x,y))"
   ]
  },
  {
   "cell_type": "code",
   "execution_count": 18,
   "metadata": {},
   "outputs": [
    {
     "name": "stdout",
     "output_type": "stream",
     "text": [
      "\n",
      "x = \n",
      " [[1 2]\n",
      " [3 4]]\n",
      "\n",
      "\n",
      "y = \n",
      " [[5 6]\n",
      " [7 8]]\n",
      "\n",
      "\n",
      "x+y =  [[ 6  8]\n",
      " [10 12]]\n",
      "np.add(x,y)= [[ 6  8]\n",
      " [10 12]]\n",
      "\n",
      "x-y =  [[-4 -4]\n",
      " [-4 -4]]\n",
      "np.subtract(x,y) [[-4 -4]\n",
      " [-4 -4]]\n",
      "\n",
      "x*y =  [[ 5 12]\n",
      " [21 32]]\n",
      "np.multiply= [[ 5 12]\n",
      " [21 32]]\n",
      "\n",
      "x/y =  [[0.2        0.33333333]\n",
      " [0.42857143 0.5       ]]\n",
      "np.divide(x,y)= [[0.2        0.33333333]\n",
      " [0.42857143 0.5       ]]\n"
     ]
    }
   ],
   "source": [
    "x=np.array([1,2,3,4]).reshape(2,2)\n",
    "\n",
    "y=np.array([5,6,7,8]).reshape(2,2)\n",
    "\n",
    "print()\n",
    "print(\"x = \\n\",x)\n",
    "print()\n",
    "\n",
    "print()\n",
    "print(\"y = \\n\",y)\n",
    "print()\n",
    "\n",
    "print()\n",
    "print(\"x+y = \",x+y)\n",
    "print(\"np.add(x,y)=\",np.add(x,y))\n",
    "\n",
    "print()\n",
    "print(\"x-y = \",x-y)\n",
    "print(\"np.subtract(x,y)\",np.subtract(x,y))\n",
    "\n",
    "print()\n",
    "print(\"x*y = \",x*y)\n",
    "print(\"np.multiply=\",np.multiply(x,y))\n",
    "\n",
    "print()\n",
    "print(\"x/y = \",x/y)\n",
    "print(\"np.divide(x,y)=\",np.divide(x,y))"
   ]
  },
  {
   "cell_type": "code",
   "execution_count": 19,
   "metadata": {},
   "outputs": [
    {
     "name": "stdout",
     "output_type": "stream",
     "text": [
      "\n",
      "x = \n",
      " [1 2 3 4]\n",
      "\n",
      "\n",
      "np.exp(x) =  [ 2.71828183  7.3890561  20.08553692 54.59815003]\n",
      "np.sqrt(x) = [1.         1.41421356 1.73205081 2.        ]\n",
      "np.power(x,2) [ 1  4  9 16]\n"
     ]
    }
   ],
   "source": [
    "x=np.array([1,2,3,4])\n",
    "\n",
    "print()\n",
    "print(\"x = \\n\",x)\n",
    "print()\n",
    "\n",
    "print()\n",
    "print(\"np.exp(x) = \",np.exp(x))\n",
    "print(\"np.sqrt(x) =\",np.sqrt(x))\n",
    "print(\"np.power(x,2)\",np.power(x,2))\n"
   ]
  },
  {
   "cell_type": "code",
   "execution_count": 28,
   "metadata": {},
   "outputs": [
    {
     "name": "stdout",
     "output_type": "stream",
     "text": [
      "\n",
      "x = \n",
      " [[1 2]\n",
      " [3 4]]\n",
      "\n",
      "\n",
      "average of elements   2.5\n",
      "average of elements in column = [2. 3.]\n",
      "average of elements in row = [1.5 3.5]\n",
      "sum of all elements = 10\n",
      "sum of all elements in columns = [4 6]\n",
      "sum of all elements in row= [3 7]\n",
      "standard deviation of all elements = 1.118033988749895\n",
      "standard deviation of all elements in column [1. 1.]\n",
      "standard deviation of all elements in row [0.5 0.5]\n",
      "median of elements = 2.5\n",
      "median of elements of column [2. 3.]\n",
      "median of elements of row [1.5 3.5]\n",
      "max of elements 4\n",
      "max of elements of column [3 4]\n",
      "max of elements of row [2 4]\n"
     ]
    }
   ],
   "source": [
    "x=np.array([[1,2],[3,4]])\n",
    "\n",
    "print()\n",
    "print(\"x = \\n\",x)\n",
    "print()\n",
    "\n",
    "print()\n",
    "print(\"average of elements  \",np.mean(x))\n",
    "print(\"average of elements in column =\",np.mean(x,axis=0))\n",
    "print(\"average of elements in row =\",np.mean(x,axis=1))\n",
    "\n",
    "print(\"sum of all elements =\",np.sum(x))\n",
    "print(\"sum of all elements in columns =\",np.sum(x,axis=0))\n",
    "print(\"sum of all elements in row=\",np.sum(x,axis=1))\n",
    "\n",
    "print(\"standard deviation of all elements =\",np.std(x))\n",
    "print(\"standard deviation of all elements in column\",np.std(x,axis=0))\n",
    "print(\"standard deviation of all elements in row\",np.std(x,axis=1))\n",
    "\n",
    "print(\"median of elements =\",np.median(x))\n",
    "print(\"median of elements of column\",np.median(x,axis=0))\n",
    "print(\"median of elements of row\",np.median(x,axis=1))\n",
    "\n",
    "print(\"max of elements\",np.max(x))\n",
    "print(\"max of elements of column\",np.max(x,axis=0))\n",
    "print(\"max of elements of row\",np.max(x,axis=1))\n",
    "\n",
    "\n",
    "print(\"min of elements\",np.min(x))\n",
    "print(\"min of elements of column\",np.min(x,axis=0))\n",
    "print(\"min of elements of row\",np.min(x,axis=1))"
   ]
  },
  {
   "cell_type": "code",
   "execution_count": 31,
   "metadata": {},
   "outputs": [
    {
     "name": "stdout",
     "output_type": "stream",
     "text": [
      "\n",
      "x = \n",
      " [[1 2]\n",
      " [3 4]]\n",
      "\n",
      "sum = [[4 5]\n",
      " [6 7]]\n",
      "sub=  [[ 2  1]\n",
      " [ 0 -1]]\n",
      "mul=  [[ 3  6]\n",
      " [ 9 12]]\n",
      "div=  [[3.   1.5 ]\n",
      " [1.   0.75]]\n"
     ]
    }
   ],
   "source": [
    "x=np.array([[1,2],[3,4]])\n",
    "\n",
    "print()\n",
    "print(\"x = \\n\",x)\n",
    "print()\n",
    "\n",
    "print(\"sum =\",3+x)\n",
    "print(\"sub= \",3-x)\n",
    "print(\"mul= \",3*x)\n",
    "print(\"div= \",3/x)\n"
   ]
  },
  {
   "cell_type": "code",
   "execution_count": 32,
   "metadata": {},
   "outputs": [
    {
     "name": "stdout",
     "output_type": "stream",
     "text": [
      "\n",
      "x =\n",
      " [1 2 3]\n",
      "\n",
      "x+y [[ 2  4  6]\n",
      " [ 5  7  9]\n",
      " [ 8 10 12]]\n",
      "z+y [[ 2  3  4]\n",
      " [ 6  7  8]\n",
      " [10 11 12]]\n"
     ]
    }
   ],
   "source": [
    "x=np.array([1,2,3])\n",
    "y=np.array([[1,2,3],[4,5,6],[7,8,9]])\n",
    "z=np.array([1,2,3]).reshape(3,1)\n",
    "print()\n",
    "print(\"x =\\n\",x)\n",
    "print()\n",
    "\n",
    "print(\"x+y\",x+y)\n",
    "print(\"z+y\",z+y)\n"
   ]
  },
  {
   "cell_type": "code",
   "execution_count": 46,
   "metadata": {},
   "outputs": [
    {
     "name": "stdout",
     "output_type": "stream",
     "text": [
      "\n",
      "x = \n",
      " [[1. 1. 1. 1.]\n",
      " [1. 1. 1. 1.]\n",
      " [1. 1. 1. 1.]\n",
      " [1. 1. 1. 1.]]\n",
      "\n",
      "\n",
      "y = \n",
      " [[1]\n",
      " [2]\n",
      " [3]\n",
      " [4]]\n",
      "\n",
      "\n",
      "required matrix= \n",
      " [[1. 1. 1. 1.]\n",
      " [2. 2. 2. 2.]\n",
      " [3. 3. 3. 3.]\n",
      " [4. 4. 4. 4.]]\n",
      "\n"
     ]
    }
   ],
   "source": [
    "import numpy as np\n",
    "\n",
    "# Use Broadcasting to create a 4 x 4 ndarray that has its first\n",
    "# column full of 1s, its second column full of 2s, its third\n",
    "# column full of 3s, etc.. \n",
    "\n",
    "x = np.ones((4,4))\n",
    "\n",
    "print()\n",
    "print(\"x = \\n\",x)\n",
    "print()\n",
    "y=np.array([1,2,3,4]).reshape(4,1)\n",
    "\n",
    "print()\n",
    "print(\"y = \\n\",y)\n",
    "print()\n",
    "print()\n",
    "print(\"required matrix= \\n\",y*x)\n",
    "print()"
   ]
  },
  {
   "cell_type": "code",
   "execution_count": 48,
   "metadata": {},
   "outputs": [
    {
     "name": "stdout",
     "output_type": "stream",
     "text": [
      "\n",
      "x = \n",
      " [[1. 2. 3. 4.]\n",
      " [1. 2. 3. 4.]\n",
      " [1. 2. 3. 4.]\n",
      " [1. 2. 3. 4.]]\n",
      "\n"
     ]
    }
   ],
   "source": [
    "x=np.ones((4,4))*np.arange(1,5)\n",
    "print()\n",
    "print(\"x = \\n\",x)\n",
    "print()"
   ]
  },
  {
   "cell_type": "code",
   "execution_count": null,
   "metadata": {},
   "outputs": [],
   "source": []
  }
 ],
 "metadata": {
  "kernelspec": {
   "display_name": "Python 3",
   "language": "python",
   "name": "python3"
  },
  "language_info": {
   "codemirror_mode": {
    "name": "ipython",
    "version": 3
   },
   "file_extension": ".py",
   "mimetype": "text/x-python",
   "name": "python",
   "nbconvert_exporter": "python",
   "pygments_lexer": "ipython3",
   "version": "3.7.9"
  }
 },
 "nbformat": 4,
 "nbformat_minor": 4
}
